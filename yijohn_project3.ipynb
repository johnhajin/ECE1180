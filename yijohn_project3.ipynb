{
 "cells": [
  {
   "cell_type": "markdown",
   "id": "9c1c7a02-867e-4ef8-a109-a38bcf0f81ff",
   "metadata": {},
   "source": [
    "# Project 3: "
   ]
  },
  {
   "cell_type": "markdown",
   "id": "d0fa4985-046e-4150-bbf2-cd80cb2dea34",
   "metadata": {},
   "source": [
    "# Crystal Lattice Simulation - Undamped Springs - Backwards Euler"
   ]
  },
  {
   "cell_type": "code",
   "execution_count": 1,
   "id": "b46c23fd-f583-4386-8b27-6e2d6141eee8",
   "metadata": {},
   "outputs": [
    {
     "data": {
      "text/html": [
       "<div id=\"glowscript\" class=\"glowscript\"></div>"
      ],
      "text/plain": [
       "<IPython.core.display.HTML object>"
      ]
     },
     "metadata": {},
     "output_type": "display_data"
    },
    {
     "data": {
      "application/javascript": [
       "if (typeof Jupyter !== \"undefined\") { window.__context = { glowscript_container: $(\"#glowscript\").removeAttr(\"id\")};}else{ element.textContent = ' ';}"
      ],
      "text/plain": [
       "<IPython.core.display.Javascript object>"
      ]
     },
     "metadata": {},
     "output_type": "display_data"
    }
   ],
   "source": [
    "from vpython import*\n",
    "import random #Random library for random number"
   ]
  },
  {
   "cell_type": "code",
   "execution_count": null,
   "id": "95ecbaea-525a-40e0-9b34-02af639dc056",
   "metadata": {},
   "outputs": [
    {
     "data": {
      "text/html": [
       "<div id=\"glowscript\" class=\"glowscript\"></div>"
      ],
      "text/plain": [
       "<IPython.core.display.HTML object>"
      ]
     },
     "metadata": {},
     "output_type": "display_data"
    },
    {
     "data": {
      "application/javascript": [
       "if (typeof Jupyter !== \"undefined\") { window.__context = { glowscript_container: $(\"#glowscript\").removeAttr(\"id\")};}else{ element.textContent = ' ';}"
      ],
      "text/plain": [
       "<IPython.core.display.Javascript object>"
      ]
     },
     "metadata": {},
     "output_type": "display_data"
    },
    {
     "data": {
      "application/javascript": [
       "if (typeof Jupyter !== \"undefined\") {require.undef(\"nbextensions/vpython_libraries/glow.min\");}else{element.textContent = ' ';}"
      ],
      "text/plain": [
       "<IPython.core.display.Javascript object>"
      ]
     },
     "metadata": {},
     "output_type": "display_data"
    },
    {
     "data": {
      "application/javascript": [
       "if (typeof Jupyter !== \"undefined\") {require.undef(\"nbextensions/vpython_libraries/glowcomm\");}else{element.textContent = ' ';}"
      ],
      "text/plain": [
       "<IPython.core.display.Javascript object>"
      ]
     },
     "metadata": {},
     "output_type": "display_data"
    },
    {
     "data": {
      "application/javascript": [
       "if (typeof Jupyter !== \"undefined\") {require.undef(\"nbextensions/vpython_libraries/jquery-ui.custom.min\");}else{element.textContent = ' ';}"
      ],
      "text/plain": [
       "<IPython.core.display.Javascript object>"
      ]
     },
     "metadata": {},
     "output_type": "display_data"
    },
    {
     "data": {
      "application/javascript": [
       "if (typeof Jupyter !== \"undefined\") {require([\"nbextensions/vpython_libraries/glow.min\"], function(){console.log(\"GLOW LOADED\");});}else{element.textContent = ' ';}"
      ],
      "text/plain": [
       "<IPython.core.display.Javascript object>"
      ]
     },
     "metadata": {},
     "output_type": "display_data"
    },
    {
     "data": {
      "application/javascript": [
       "if (typeof Jupyter !== \"undefined\") {require([\"nbextensions/vpython_libraries/glowcomm\"], function(){console.log(\"GLOWCOMM LOADED\");});}else{element.textContent = ' ';}"
      ],
      "text/plain": [
       "<IPython.core.display.Javascript object>"
      ]
     },
     "metadata": {},
     "output_type": "display_data"
    },
    {
     "data": {
      "application/javascript": [
       "if (typeof Jupyter !== \"undefined\") {require([\"nbextensions/vpython_libraries/jquery-ui.custom.min\"], function(){console.log(\"JQUERY LOADED\");});}else{element.textContent = ' ';}"
      ],
      "text/plain": [
       "<IPython.core.display.Javascript object>"
      ]
     },
     "metadata": {},
     "output_type": "display_data"
    }
   ],
   "source": [
    "scene = canvas(width=800, height=600)\n",
    "scene.backgroud = color.black\n",
    "\n",
    "# Set up the parameters\n",
    "n = 3 #Dimension\n",
    "k = 2    # Spring constant\n",
    "dt = 0.02 #Time step\n",
    "\n",
    "# Set up the objects with initialize functions\n",
    "#Must be 3*3*3 cube so it shall be 3*3*3 balls - 27 balls\n",
    "\n",
    "#spring = helix(pos=ball1.pos, axis=ball2.pos - ball1.pos, radius=0.1, color=color.orange)\n",
    "\n",
    "\n",
    "#Initial Velocities - velocity of -1 to 1 randomized\n",
    "class crystal:\n",
    "    def __init__(self):\n",
    "        self.atoms = []\n",
    "        self.springs = []\n",
    "        self.neighbors = {}  # Dictionary to store neighboring atoms\n",
    "\n",
    "        # Create the atoms\n",
    "        for z in range(-1, n-1):\n",
    "            for y in range(-1, n-1):\n",
    "                for x in range(-1, n-1):\n",
    "                    atom = sphere(pos=vector(x, y, z), radius=0.2, color=color.blue)\n",
    "                    atom.original = atom.pos\n",
    "                    atom.mass = 1\n",
    "                    atom.velocity = vector(random.uniform(-1.00, 1.00), random.uniform(-1.00, 1.00), random.uniform(-1.00, 1.00))\n",
    "                    atom.index = len(self.atoms)\n",
    "                    self.atoms.append(atom)\n",
    "\n",
    "        # Create the springs\n",
    "        spring_counter = 1\n",
    "        for i, atom1 in enumerate(self.atoms):\n",
    "            for j, atom2 in enumerate(self.atoms):\n",
    "                if i < j:  # Only create one spring for each pair of atoms\n",
    "                    dist = mag(atom1.pos - atom2.pos)\n",
    "                    if dist == 1:  # Create axial spring\n",
    "                        spring = helix(pos=atom1.pos, axis=atom2.pos - atom1.pos, radius=0.1, color=color.orange)\n",
    "                        spring.atom1 = atom1\n",
    "                        spring.atom2 = atom2\n",
    "                        self.springs.append(spring)\n",
    "\n",
    "\n",
    "                    elif dist == sqrt(2):  # Create diagonal spring\n",
    "                        spring = helix(pos=atom1.pos, axis=atom2.pos - atom1.pos, radius=0.1, color=color.green)\n",
    "                        spring.atom1 = atom1\n",
    "                        spring.atom2 = atom2\n",
    "                        self.springs.append(spring)\n",
    "                        \n",
    "                    # Store neighboring atoms\n",
    "                    if atom1 not in self.neighbors:\n",
    "                        self.neighbors[atom1] = []\n",
    "                    if atom2 not in self.neighbors:\n",
    "                        self.neighbors[atom2] = []\n",
    "                    self.neighbors[atom1].append(atom2)\n",
    "                    self.neighbors[atom2].append(atom1)\n",
    "\n",
    "        # Convert neighboring atoms to sets for faster access\n",
    "        for atom in self.neighbors:\n",
    "            self.neighbors[atom] = set(self.neighbors[atom])\n",
    "\n",
    "    def update(self, k, dt):\n",
    "        for atom1 in self.atoms:\n",
    "            # Calculate the total force on atom1 from its neighboring atoms\n",
    "            total_force = vector(0,0,0)\n",
    "            for atom2 in self.neighbors[atom1]:\n",
    "                # Calculate the force on atom1 due to atom2\n",
    "                force1 = -k*(atom1.pos-atom1.original)\n",
    "                force2 = -k*(atom2.pos-atom2.original)\n",
    "                force = force1+force2\n",
    "                total_force += force\n",
    "                \n",
    "            \n",
    "            # Calculating the Acceleration\n",
    "            acceleration = total_force/atom1.mass\n",
    "            \n",
    "\n",
    "            # Calculate the new velocity using the backward Euler method\n",
    "            new_velocity = atom1.velocity + acceleration * dt\n",
    "            \n",
    "            # Calculate the new position using the backward Euler method -- Using next step velocity\n",
    "            new_position = atom1.pos + dt*new_velocity\n",
    "\n",
    "            # Update the atom's position and velocity\n",
    "            atom1.velocity = new_velocity\n",
    "            atom1.pos = new_position\n",
    "\n",
    "\n",
    "        # Update the springs after all atoms have been updated\n",
    "        self.update_springs()\n",
    "\n",
    "\n",
    "\n",
    "    def update_springs(self):\n",
    "        # Update the springs based on the current positions of the atoms\n",
    "        for spring in self.springs:\n",
    "            atom1 = spring.atom1\n",
    "            atom2 = spring.atom2     \n",
    "            \n",
    "            spring.pos = atom1.pos\n",
    "            spring.axis = atom2.pos - atom1.pos\n",
    "            \n",
    "c = crystal()\n",
    "\n",
    "# Run the simulation\n",
    "while True:\n",
    "   rate(100)\n",
    "   c.update(k,dt)\n",
    "\n"
   ]
  },
  {
   "cell_type": "markdown",
   "id": "e983dd10-f9b1-494c-8db4-fa4b733da095",
   "metadata": {},
   "source": [
    "# Crystal Lattice Simulation - Undamped Springs - Forwards Euler"
   ]
  },
  {
   "cell_type": "code",
   "execution_count": null,
   "id": "cfdb7dc9-9716-4a8c-8279-6eae0fd81f15",
   "metadata": {},
   "outputs": [],
   "source": [
    "from vpython import*\n",
    "Web VPython 3.2\n",
    "import random #Random library for random number\n",
    "# Set up the scene\n",
    "scene = canvas(width=800, height=600)\n",
    "scene.backgroud = color.black\n",
    "\n",
    "# Set up the parameters\n",
    "n = 3 #Dimension\n",
    "k = 2    # Spring constant\n",
    "dt = 0.02 #Time step\n",
    "\n",
    "# Set up the objects with initialize functions\n",
    "#Must be 3*3*3 cube so it shall be 3*3*3 balls - 27 balls\n",
    "\n",
    "#spring = helix(pos=ball1.pos, axis=ball2.pos - ball1.pos, radius=0.1, color=color.orange)\n",
    "\n",
    "\n",
    "#Initial Velocities - velocity of -1 to 1 randomized\n",
    "class crystal:\n",
    "    def __init__(self):\n",
    "        self.atoms = []\n",
    "        self.springs = []\n",
    "        self.neighbors = {}  # Dictionary to store neighboring atoms\n",
    "\n",
    "        # Create the atoms\n",
    "        for z in range(-1, n-1):\n",
    "            for y in range(-1, n-1):\n",
    "                for x in range(-1, n-1):\n",
    "                    atom = sphere(pos=vector(x, y, z), radius=0.2, color=color.blue)\n",
    "                    atom.original = atom.pos\n",
    "                    atom.mass = 1\n",
    "                    atom.velocity = vector(random.uniform(-1.00, 1.00), random.uniform(-1.00, 1.00), random.uniform(-1.00, 1.00))\n",
    "                    atom.index = len(self.atoms)\n",
    "                    self.atoms.append(atom)\n",
    "\n",
    "        # Create the springs\n",
    "        spring_counter = 1\n",
    "        for i, atom1 in enumerate(self.atoms):\n",
    "            for j, atom2 in enumerate(self.atoms):\n",
    "                if i < j:  # Only create one spring for each pair of atoms\n",
    "                    dist = mag(atom1.pos - atom2.pos)\n",
    "                    if dist == 1:  # Create axial spring\n",
    "                        spring = helix(pos=atom1.pos, axis=atom2.pos - atom1.pos, radius=0.1, color=color.orange)\n",
    "                        spring.atom1 = atom1\n",
    "                        spring.atom2 = atom2\n",
    "                        self.springs.append(spring)\n",
    "\n",
    "\n",
    "                    elif dist == sqrt(2):  # Create diagonal spring\n",
    "                        spring = helix(pos=atom1.pos, axis=atom2.pos - atom1.pos, radius=0.1, color=color.green)\n",
    "                        spring.atom1 = atom1\n",
    "                        spring.atom2 = atom2\n",
    "                        self.springs.append(spring)\n",
    "                        \n",
    "                    # Store neighboring atoms\n",
    "                    if atom1 not in self.neighbors:\n",
    "                        self.neighbors[atom1] = []\n",
    "                    if atom2 not in self.neighbors:\n",
    "                        self.neighbors[atom2] = []\n",
    "                    self.neighbors[atom1].append(atom2)\n",
    "                    self.neighbors[atom2].append(atom1)\n",
    "\n",
    "        # Convert neighboring atoms to sets for faster access\n",
    "        for atom in self.neighbors:\n",
    "            self.neighbors[atom] = set(self.neighbors[atom])\n",
    "\n",
    "    def update(self, k, dt):\n",
    "        for atom1 in self.atoms:\n",
    "            # Calculate the total force on atom1 from its neighboring atoms\n",
    "            total_force = vector(0,0,0)\n",
    "            for atom2 in self.neighbors[atom1]:\n",
    "                # Calculate the force on atom1 due to atom2\n",
    "                force1 = -k*(atom1.pos-atom1.original)\n",
    "                force2 = -k*(atom2.pos-atom2.original)\n",
    "                force = force1+force2\n",
    "                total_force += force\n",
    "                \n",
    "            \n",
    "            # Calculating the Acceleration\n",
    "            acceleration = total_force/atom1.mass\n",
    "            \n",
    "\n",
    "            # Calculate the new velocity using the forward Euler method\n",
    "            new_velocity = atom1.velocity + dt*total_force/atom1.mass\n",
    "\n",
    "            # Calculate the new position using the forward Euler method -- Using current velocity\n",
    "            new_position = atom1.pos + dt*atom1.velocity\n",
    "\n",
    "            # Update the atom's position and velocity\n",
    "            atom1.velocity = new_velocity\n",
    "            atom1.pos = new_position\n",
    "\n",
    "\n",
    "        # Update the springs after all atoms have been updated\n",
    "        self.update_springs()\n",
    "\n",
    "\n",
    "\n",
    "    def update_springs(self):\n",
    "        # Update the springs based on the current positions of the atoms\n",
    "        for spring in self.springs:\n",
    "            atom1 = spring.atom1\n",
    "            atom2 = spring.atom2     \n",
    "            \n",
    "            spring.pos = atom1.pos\n",
    "            spring.axis = atom2.pos - atom1.pos\n",
    "            \n",
    "c = crystal()\n",
    "\n",
    "# Run the simulation\n",
    "while True:\n",
    "   rate(100)\n",
    "   c.update(k,dt)\n"
   ]
  }
 ],
 "metadata": {
  "kernelspec": {
   "display_name": "Python 3 (ipykernel)",
   "language": "python",
   "name": "python3"
  },
  "language_info": {
   "codemirror_mode": {
    "name": "ipython",
    "version": 3
   },
   "file_extension": ".py",
   "mimetype": "text/x-python",
   "name": "python",
   "nbconvert_exporter": "python",
   "pygments_lexer": "ipython3",
   "version": "3.8.15"
  }
 },
 "nbformat": 4,
 "nbformat_minor": 5
}
